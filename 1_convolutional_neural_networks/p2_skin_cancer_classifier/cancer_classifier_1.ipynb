{
 "cells": [
  {
   "cell_type": "code",
   "execution_count": 1,
   "metadata": {
    "collapsed": true
   },
   "outputs": [
    {
     "name": "stderr",
     "output_type": "stream",
     "text": [
      "Using TensorFlow backend.\n"
     ]
    }
   ],
   "source": [
    "import matplotlib.pyplot as plt\n",
    "import numpy as np\n",
    "import pandas as pd\n",
    "from sklearn.datasets import load_files\n",
    "import keras\n",
    "from keras.utils import np_utils\n",
    "from glob import glob"
   ]
  },
  {
   "cell_type": "markdown",
   "source": [
    "import dataset"
   ],
   "metadata": {
    "collapsed": false,
    "pycharm": {
     "name": "#%% md\n"
    }
   }
  },
  {
   "cell_type": "code",
   "execution_count": 2,
   "outputs": [],
   "source": [
    "def load_dataset(path):\n",
    "    data = load_files(path, shuffle=True)\n",
    "    img_files = np.array(data['filenames'])\n",
    "    img_targets = np_utils.to_categorical(np.array(data['target']), 3)\n",
    "    return img_files, img_targets"
   ],
   "metadata": {
    "collapsed": false,
    "pycharm": {
     "name": "#%%\n"
    }
   }
  },
  {
   "cell_type": "code",
   "execution_count": null,
   "outputs": [],
   "source": [
    "train_files, train_labels = load_dataset('data/train')\n",
    "valid_files, valid_labels = load_dataset('data/valid')"
   ],
   "metadata": {
    "collapsed": false,
    "pycharm": {
     "name": "#%%\n"
    }
   }
  },
  {
   "cell_type": "code",
   "execution_count": null,
   "outputs": [],
   "source": [
    "def load_dataset_no_shuffle(path):\n",
    "    data = load_files(path, shuffle=False)\n",
    "    img_files = np.array(data['filenames'])\n",
    "    img_targets = np_utils.to_categorical(np.array(data['target']), 3)\n",
    "    return img_files, img_targets"
   ],
   "metadata": {
    "collapsed": false,
    "pycharm": {
     "name": "#%%\n"
    }
   }
  },
  {
   "cell_type": "code",
   "execution_count": null,
   "outputs": [],
   "source": [
    "test_files, test_labels = load_dataset_no_shuffle('data/test')"
   ],
   "metadata": {
    "collapsed": false,
    "pycharm": {
     "name": "#%%\n"
    }
   }
  },
  {
   "cell_type": "code",
   "execution_count": null,
   "outputs": [],
   "source": [
    "from keras.preprocessing import image\n",
    "from tqdm import tqdm\n",
    "\n",
    "def path_to_tensor(path):\n",
    "    img = image.load_img(path, target_size=(224, 224))\n",
    "    x = image.img_to_array(img)\n",
    "    return np.expand_dims(x, axis=0)\n",
    "\n",
    "def paths_to_tensor(paths):\n",
    "    list_of_tensors = [path_to_tensor(path) for path in tqdm(paths)]\n",
    "    return np.vstack(list_of_tensors)"
   ],
   "metadata": {
    "collapsed": false,
    "pycharm": {
     "name": "#%%\n"
    }
   }
  },
  {
   "cell_type": "code",
   "execution_count": null,
   "outputs": [],
   "source": [
    "train_tensors = paths_to_tensor(train_files).astype('float32')/255\n",
    "valid_tensors = paths_to_tensor(valid_files).astype('float32')/255\n",
    "test_tensors = paths_to_tensor(test_files).astype('float32')/255"
   ],
   "metadata": {
    "collapsed": false,
    "pycharm": {
     "name": "#%%\n"
    }
   }
  },
  {
   "cell_type": "markdown",
   "source": [
    "train on inceptionV3"
   ],
   "metadata": {
    "collapsed": false
   }
  },
  {
   "cell_type": "code",
   "execution_count": null,
   "outputs": [],
   "source": [
    "from keras.layers import Conv2D, MaxPooling2D, GlobalAveragePooling2D\n",
    "from keras.layers import Dropout, Flatten, Dense\n",
    "from keras.models import Sequential"
   ],
   "metadata": {
    "collapsed": false,
    "pycharm": {
     "name": "#%%\n"
    }
   }
  },
  {
   "cell_type": "code",
   "execution_count": null,
   "outputs": [],
   "source": [
    "from keras.applications.inception_v3 import InceptionV3\n",
    "\n",
    "model_inception = InceptionV3(weights = 'imagenet', include_top = False)"
   ],
   "metadata": {
    "collapsed": false,
    "pycharm": {
     "name": "#%%\n"
    }
   }
  },
  {
   "cell_type": "code",
   "execution_count": null,
   "outputs": [],
   "source": [
    "train_features_inception = model_inception.predict(train_tensors, verbose=1)\n",
    "valid_features_inception = model_inception.predict(valid_tensors, verbose=1)\n",
    "test_features_inception = model_inception.predict(test_tensors, verbose=1)"
   ],
   "metadata": {
    "collapsed": false,
    "pycharm": {
     "name": "#%%\n"
    }
   }
  },
  {
   "cell_type": "code",
   "execution_count": null,
   "outputs": [],
   "source": [
    "model = Sequential()\n",
    "\n",
    "model.add(GlobalAveragePooling2D(input_shape = train_features_inception.shape[1:]))\n",
    "model.add(Dropout(0.2))\n",
    "model.add(Dense(1024, activation='relu'))\n",
    "model.add(Dropout(0.2))\n",
    "model.add(Dense(512, activation='relu'))\n",
    "model.add(Dropout(0.2))\n",
    "model.add(Dense(128, activation='relu'))\n",
    "model.add(Dropout(0.2))\n",
    "model.add(Dense(3, activation='softmax'))\n",
    "\n",
    "model.summary()"
   ],
   "metadata": {
    "collapsed": false,
    "pycharm": {
     "name": "#%%\n"
    }
   }
  },
  {
   "cell_type": "code",
   "execution_count": null,
   "outputs": [],
   "source": [
    "opt = keras.optimizers.Adam(lr=0.0001, decay=1e-6)\n",
    "model.compile(optimizer=opt, metrics=['accuracy'], loss='categorical_crossentropy')"
   ],
   "metadata": {
    "collapsed": false,
    "pycharm": {
     "name": "#%%\n"
    }
   }
  },
  {
   "cell_type": "code",
   "execution_count": null,
   "outputs": [],
   "source": [
    "from keras.callbacks import ModelCheckpoint\n",
    "\n",
    "checkpoint = ModelCheckpoint(save_best_only=True, verbose=1, filepath='saved_models/weights.best.from_inception.hdf5')\n",
    "\n",
    "model.fit(train_features_inception,\n",
    "          train_labels,\n",
    "          epochs=25,\n",
    "          batch_size=64,\n",
    "          validation_data=(valid_features_inception, valid_labels),\n",
    "          callbacks=[checkpoint],\n",
    "          verbose=1)"
   ],
   "metadata": {
    "collapsed": false,
    "pycharm": {
     "name": "#%%\n"
    }
   }
  },
  {
   "cell_type": "code",
   "execution_count": null,
   "outputs": [],
   "source": [
    "model.load_weights('saved_models/weights.best.from_inception.hdf5')"
   ],
   "metadata": {
    "collapsed": false,
    "pycharm": {
     "name": "#%%\n"
    }
   }
  },
  {
   "cell_type": "code",
   "execution_count": null,
   "outputs": [],
   "source": [
    "test_predictions = np.argmax(model.predict(test_features_inception), axis=1)\n",
    "accuracy = 100*np.sum(np.array(test_predictions) == np.argmax(test_labels, axis=1)/len(test_predictions))\n",
    "print ('Accuracy of Inception model on test set = %.4f%%' % accuracy)"
   ],
   "metadata": {
    "collapsed": false,
    "pycharm": {
     "name": "#%%\n"
    }
   }
  },
  {
   "cell_type": "code",
   "execution_count": null,
   "outputs": [],
   "source": [
    "print(np.argmax(test_labels[25]))\n",
    "print(test_predictions[25])\n"
   ],
   "metadata": {
    "collapsed": false,
    "pycharm": {
     "name": "#%%\n"
    }
   }
  },
  {
   "cell_type": "code",
   "execution_count": null,
   "outputs": [],
   "source": [
    "import cv2\n",
    "\n",
    "img = cv2.imread(test_files[25])\n",
    "img = cv2.cvtColor(img, cv2.COLOR_BGR2RGB)\n",
    "plt.imshow(img)\n",
    "plt.show()"
   ],
   "metadata": {
    "collapsed": false,
    "pycharm": {
     "name": "#%%\n"
    }
   }
  },
  {
   "cell_type": "code",
   "execution_count": null,
   "outputs": [],
   "source": [
    "test_predictions = model.predict(test_features_inception)\n",
    "test_predictions_task1 = test_predictions[:,0]\n",
    "test_predictions_task2 = test_predictions[:,2]"
   ],
   "metadata": {
    "collapsed": false,
    "pycharm": {
     "name": "#%%\n"
    }
   }
  },
  {
   "cell_type": "code",
   "execution_count": null,
   "outputs": [],
   "source": [
    "submission_inception = pd.DataFrame({'Id':test_files, 'task_1':test_predictions_task1, 'task_2':test_predictions_task2})\n",
    "pd.DataFrame.to_csv(submission_inception, 'submission.csv', index=False)"
   ],
   "metadata": {
    "collapsed": false,
    "pycharm": {
     "name": "#%%\n"
    }
   }
  },
  {
   "cell_type": "code",
   "execution_count": null,
   "outputs": [],
   "source": [
    "import itertools\n",
    "import matplotlib.pyplot as plt\n",
    "import numpy as np\n",
    "import pandas as pd\n",
    "import sys\n",
    "\n",
    "from sklearn.metrics import roc_curve, auc, confusion_matrix\n",
    "\n",
    "def plot_roc_auc(y_true, y_pred):\n",
    "\n",
    "    #initialise dictionaries and array\n",
    "    fpr = dict()\n",
    "    tpr = dict()\n",
    "    roc_auc = np.zeros(3)\n",
    "\n",
    "    #prepare for figure\n",
    "    plt.figure()\n",
    "    colors = ['aqua', 'cornflowerblue']\n",
    "\n",
    "    #for both classification tasks (categories 1, 2)\n",
    "    for i in range(2):\n",
    "        #obtain ROC curve\n",
    "        fpr[i], tpr[i], _ = roc_curve(y_true[:,i], y_pred[:,i])\n",
    "        #obtain ROC AUC\n",
    "        roc_auc[i] = auc(fpr[i], tpr[i])\n",
    "        #plot ROC curve\n",
    "        plt.plot(fpr[i], tpr[i], color=colors[i], lw=2, label='ROC curve for task {d} (area = {f:.2f)'.format(d=i+1, f=roc_auc[i]))\n",
    "\n",
    "    #get score for category 3\n",
    "    roc_auc[2] = np.average(roc_auc[:2])\n",
    "\n",
    "    #format figure\n",
    "    plt.plot([0, 1], [0, 1], 'k--', lw=2)\n",
    "    plt.xlim([0.0, 1.0])\n",
    "    plt.ylim([0.0, 1.05])\n",
    "    plt.xlabel('False Positive Rate')\n",
    "    plt.ylabel('True Positive Rate')\n",
    "    plt.title('ROC curves')\n",
    "    plt.legend(loc=\"lower right\")\n",
    "    plt.show()\n",
    "\n",
    "    #print scores\n",
    "    for i in range(3):\n",
    "        print('Category {d} Score: {f:.3f'.format(d=i+1, f=roc_auc[i]))\n",
    "\n",
    "def plot_confusion_matrix(y_true, y_pred, thresh, classes):\n",
    "    #obtain class predictions from probabilities\n",
    "    y_pred = (y_pred>=thresh)*1\n",
    "    #obtain unnormalised confusion matrix\n",
    "    cm = confusion_matrix(y_true, y_pred)\n",
    "    #normalise confusion matrix\n",
    "    cm = cm.astype('float')  / cm.sum(axis=1)[:, np.newaxis]\n",
    "\n",
    "    plt.figure()\n",
    "    plt.imshow(cm, interpolation='nearest', cmap=plt.cm.Blues)\n",
    "    plt.title('Confusion matrix')\n",
    "    plt.colorbar()\n",
    "    tick_marks = np.arange(len(classes))\n",
    "    plt.xticks(tick_marks, classes, rotation=45)\n",
    "    plt.yticks(tick_marks, classes)\n",
    "\n",
    "    thresh = cm.max() / 2\n",
    "    for i, j in itertools.product(range(cm.shape[0]), range(cm.shape[1])):\n",
    "        plt.text(j, i, format(cm[i, j], '.2f'),\n",
    "                 horizontalalignmnet='center',\n",
    "                 color='white' if cm[i, j] > thresh else 'black')\n",
    "    plt.tight_layout()\n",
    "    plt.ylabel('True label')\n",
    "    plt.xlabel('Predicted label')\n",
    "    plt.show()\n",
    "\n",
    "if __name__ == '__main__':\n",
    "\n",
    "    preds_path = sys.argv[1]\n",
    "\n",
    "    thresh = 0.5\n",
    "\n",
    "    #get ground truth labels for test dataset\n",
    "    truth = pd.read_csv('ground_truth.csv')\n",
    "    y_true = truth.as_matrix(columns=['task_1', 'task_2'])\n",
    "\n",
    "    #get model predictions for test dataset\n",
    "    y_pred = pd.read_csv('submission.csv')\n",
    "    y_pred = y_pred.as_matrix(columns=['task_1', 'task_2'])\n",
    "\n",
    "    #plot roc curves and print scores\n",
    "    plot_roc_auc(y_true, y_pred)\n",
    "\n",
    "    #plot confusion matrix\n",
    "    classes = ['benign', 'malignant']\n",
    "    plot_confusion_matrix(y_true[:,0], y_pred[:,0], thresh, classes)"
   ],
   "metadata": {
    "collapsed": false,
    "pycharm": {
     "name": "#%%\n"
    }
   }
  },
  {
   "cell_type": "markdown",
   "source": [
    "train on inceptionV2"
   ],
   "metadata": {
    "collapsed": false,
    "pycharm": {
     "name": "#%% md\n"
    }
   }
  },
  {
   "cell_type": "code",
   "execution_count": null,
   "outputs": [],
   "source": [
    "from keras.applications.inception_resnet_v2 import InceptionResNetV2\n",
    "\n",
    "model_inception_resnet = InceptionResNetV2(weights = 'imagenet', include_top = False)"
   ],
   "metadata": {
    "collapsed": false,
    "pycharm": {
     "name": "#%%\n"
    }
   }
  },
  {
   "cell_type": "code",
   "execution_count": null,
   "outputs": [],
   "source": [
    "model_inception_resnet = Sequential()\n",
    "\n",
    "model_inception_resnet.add(GlobalAveragePooling2D(input_shape = train_features_inception.shape[1:]))\n",
    "model_inception_resnet.add(Dropout(0.2))\n",
    "model_inception_resnet.add(Dense(1024, activation = 'relu'))\n",
    "model_inception_resnet.add(Dropout(0.2))\n",
    "model_inception_resnet.add(Dense(512, activation = 'relu'))\n",
    "model_inception_resnet.add(Dropout(0.2))\n",
    "model_inception_resnet.add(Dense(128, activation = 'relu'))\n",
    "model_inception_resnet.add(Dropout(0.2))\n",
    "model_inception_resnet.add(Dense(3, activation = 'softmax'))\n",
    "\n",
    "model_inception_resnet.summary()"
   ],
   "metadata": {
    "collapsed": false,
    "pycharm": {
     "name": "#%%\n"
    }
   }
  },
  {
   "cell_type": "code",
   "execution_count": null,
   "outputs": [],
   "source": [
    "opt = keras.optimizers.Adam(lr=0.0001, decay=1e-6)\n",
    "model_inception_resnet.compile(optimizer=opt, metrics=['accuracy'], loss='categorical_crossentropy')"
   ],
   "metadata": {
    "collapsed": false,
    "pycharm": {
     "name": "#%%\n"
    }
   }
  },
  {
   "cell_type": "code",
   "execution_count": null,
   "outputs": [],
   "source": [
    "from keras.callbacks import ModelCheckpoint\n",
    "\n",
    "checkpoint_inception = ModelCheckpoint(\n",
    "    save_best_only = True,\n",
    "    verbose = 1,\n",
    "    filepath = 'saved_models/weights.best.from_inception_resnet_v2.hdf5'\n",
    ")\n",
    "\n",
    "model_inception_resnet.fit(train_features_inception,\n",
    "                           train_labels,\n",
    "                           epochs=35,\n",
    "                           batch_size=64,\n",
    "                           validation_data=(valid_features_inception, valid_labels), callbacks=[checkpoint_inception], verbose=1)"
   ],
   "metadata": {
    "collapsed": false,
    "pycharm": {
     "name": "#%%\n"
    }
   }
  },
  {
   "cell_type": "code",
   "execution_count": null,
   "outputs": [],
   "source": [
    "model_inception_resnet.load_weights('saved_models/weights.best.from_inception_resnet_v2.hdf5')"
   ],
   "metadata": {
    "collapsed": false,
    "pycharm": {
     "name": "#%%\n"
    }
   }
  },
  {
   "cell_type": "code",
   "execution_count": null,
   "outputs": [],
   "source": [
    "test_predictions = np.argmax(model_inception_resnet.predict(test_features_inception), axis=1)\n",
    "accuracy = 100*np.sum(np.array(test_predictions) == np.argmax(test_labels, axis=1))/len(test_predictions)\n",
    "\n",
    "print('Accuracy of Inception model on test set = %.4f%%' % accuracy)"
   ],
   "metadata": {
    "collapsed": false,
    "pycharm": {
     "name": "#%%\n"
    }
   }
  },
  {
   "cell_type": "code",
   "execution_count": null,
   "outputs": [],
   "source": [
    "submission_inception_resnet = pd.DataFrame({'Id':test_files, 'task_1':test_predictions_task1, 'task_2':test_predictions_task2})\n",
    "pd.DataFrame.to_csv(submission_inception_resnet, 'submission.csv', index=False)"
   ],
   "metadata": {
    "collapsed": false,
    "pycharm": {
     "name": "#%%\n"
    }
   }
  },
  {
   "cell_type": "code",
   "execution_count": null,
   "outputs": [],
   "source": [
    "preds_path = sys.argv[1]\n",
    "\n",
    "thresh = 0.5\n",
    "\n",
    "#get ground truth labels for test dataset\n",
    "truth = pd.read_csv('ground_truth.csv')\n",
    "y_true = truth.as_matrix(columns=[\"task_1\", \"task_2\"])\n",
    "\n",
    "#get model predictions for test dataset\n",
    "y_pred = pd.read_csv('submission.csv')\n",
    "y_pred = y_pred.as_matrix(columns=[\"task_1\", \"task_2\"])\n",
    "\n",
    "#plot ROC curves and print scores\n",
    "plot_roc_auc(y_true, y_pred)\n",
    "#plot confusion matrix\n",
    "classes = ['benign', 'malignant']\n",
    "plot_confusion_matrix(y_true[:,0], y_pred[:,0], thresh, classes)\n"
   ],
   "metadata": {
    "collapsed": false,
    "pycharm": {
     "name": "#%%\n"
    }
   }
  }
 ],
 "metadata": {
  "kernelspec": {
   "display_name": "Python 3",
   "language": "python",
   "name": "python3"
  },
  "language_info": {
   "codemirror_mode": {
    "name": "ipython",
    "version": 2
   },
   "file_extension": ".py",
   "mimetype": "text/x-python",
   "name": "python",
   "nbconvert_exporter": "python",
   "pygments_lexer": "ipython2",
   "version": "2.7.6"
  }
 },
 "nbformat": 4,
 "nbformat_minor": 0
}